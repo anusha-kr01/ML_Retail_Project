{
  "nbformat": 4,
  "nbformat_minor": 0,
  "metadata": {
    "colab": {
      "provenance": [],
      "authorship_tag": "ABX9TyPiJsse2mDcPnakb4L46/u+",
      "include_colab_link": true
    },
    "kernelspec": {
      "name": "python3",
      "display_name": "Python 3"
    },
    "language_info": {
      "name": "python"
    }
  },
  "cells": [
    {
      "cell_type": "markdown",
      "metadata": {
        "id": "view-in-github",
        "colab_type": "text"
      },
      "source": [
        "<a href=\"https://colab.research.google.com/github/anusha-kr01/ML_Retail_Project/blob/main/ML_Retail_Project.ipynb\" target=\"_parent\"><img src=\"https://colab.research.google.com/assets/colab-badge.svg\" alt=\"Open In Colab\"/></a>"
      ]
    },
    {
      "cell_type": "code",
      "execution_count": 5,
      "metadata": {
        "id": "DKxa6SWiwpob"
      },
      "outputs": [],
      "source": [
        "# Step 1: Import necessary libraries\n",
        "import pandas as pd  #deal with the data like tables, csv files\n",
        "import numpy as np  # for mathemetical operations\n",
        "import matplotlib.pyplot as plt # for plotting simple graphs\n",
        "import seaborn as sns # good looking plots\n",
        "\n",
        "#machine learning\n",
        "from sklearn.model_selection import train_test_split #splits data into training and testing\n",
        "from sklearn.linear_model import LinearRegression # a supervised ml algo for prediction of number of sales.\n",
        "from sklearn.metrics import mean_squared_error , r2_score #for models predictions"
      ]
    }
  ]
}